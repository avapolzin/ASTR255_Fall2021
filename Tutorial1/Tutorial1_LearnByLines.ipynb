{
 "cells": [
  {
   "cell_type": "code",
   "execution_count": null,
   "metadata": {},
   "outputs": [],
   "source": [
    "%matplotlib inline\n",
    "## this command allows us to print figures within the notebook and not in a pop up window\n",
    "\n",
    "## here's where we import all of the modules/packages we want\n",
    "import matplotlib.pyplot as plt # import ... as ... is almost like aliasing in that you can put anything you want after \"as\"\n",
    "import numpy as np # there are standard abbreviations, though, for most packages; numpy contains most basic math commands"
   ]
  },
  {
   "cell_type": "markdown",
   "metadata": {},
   "source": [
    "We may have to install some of these packages, so let's open a(nother) terminal window -- if you're working in an environment, make sure to source it now -- then we can use _pip install ..._ or _conda install ..._ to download the relevant packages. You only need to do this once per package per environment, though if a package breaks you may have to re-install it.\n",
    "\n",
    "Further, nowadays, newer versions of Jupyter notebooks will allow you to install packages right from the notebook. In a new cell, you can try _!pip install ..._ to download packages directly. Be aware that for newer Macs (and possibly other computers/OSs) your Jupyter notebook may default to zshell instead of bash or vice versa regardless of your terminal settings.\n",
    "\n",
    "Some basic packages that we have not already imported that may be of interest are:\n",
    "- _scipy_: has a lot of built in stats/scientific functions like probability distributions or curve fitting\n",
    "- _math_: most of these functions are covered by numpy, but some people use/prefer it\n",
    "- _random_: good for generating (pseudo-)random numbers/seeds\n",
    "- _pandas_: really common data science way to read ASCII and other text files and manipulate data/dataframes\n",
    "- _astropy_: open source astronomy utilities; important resource for any astronomer! \n",
    "\n",
    "For the purposes of this tutorial, we're going to essentially examine the many ways one can generate a line in Python. This will allow us to examine the various (basic) operations available to us and ultimately the breadth of potential ways to solve even a single simple problem. If you have no plotting experience, this will also serve as an introduction to matplotlib.\n",
    "\n",
    "Let's get started!"
   ]
  },
  {
   "cell_type": "markdown",
   "metadata": {},
   "source": [
    "# Numpy\n",
    "\n",
    "We'll begin with some of numpy's common functions to generate the data for a line.\n",
    "\n",
    "Let's start by generating data sampled over linear space in x:"
   ]
  },
  {
   "cell_type": "code",
   "execution_count": null,
   "metadata": {},
   "outputs": [],
   "source": [
    "x = np.linspace(0, 100, 10) # this function generates a numpy array with 10 values evenly spaced between 0 and 100\n",
    "# for certain applications, an alternative to linspace is np.arange(a, b), which generates sequential integers in the range [a, b)\n",
    "#                                            if only a single number is specified (e.g., np.linspace(a)), then the range is [0, a)"
   ]
  },
  {
   "cell_type": "markdown",
   "metadata": {},
   "source": [
    "Now let's say that we want to generate our y-values via _y = mx + b_ for _m = 2_ and _b = 4._\n",
    "\n",
    "Because x is already an array, we can simply define:"
   ]
  },
  {
   "cell_type": "code",
   "execution_count": null,
   "metadata": {},
   "outputs": [],
   "source": [
    "m = 2\n",
    "b = 4\n",
    "y = m*x + b"
   ]
  },
  {
   "cell_type": "markdown",
   "metadata": {},
   "source": [
    "What would happen if x were a list, though? What about a pandas series or other data type? Think it through and/or test it out below!"
   ]
  },
  {
   "cell_type": "code",
   "execution_count": null,
   "metadata": {},
   "outputs": [],
   "source": []
  },
  {
   "cell_type": "markdown",
   "metadata": {},
   "source": [
    "Now let's plot our result.\n",
    "\n",
    "First we have to instantiate the figure object (the optional argument 'figsize' allows us to set the dimensions of our plot). As with many (though not all) parameteres in packages' built-in functions, if left unspecified, it will default to some set value."
   ]
  },
  {
   "cell_type": "code",
   "execution_count": null,
   "metadata": {},
   "outputs": [],
   "source": [
    "fig = plt.figure(figsize = (10, 10))\n",
    "plt.plot(x, y, color = 'mediumvioletred', lw = 4.)"
   ]
  },
  {
   "cell_type": "markdown",
   "metadata": {},
   "source": [
    "The 'color' argument allows us to set the color of the line (see other options [here](https://matplotlib.org/stable/gallery/color/named_colors.html)), and 'lw' allows us to set the width of the line. There are many other commands in matplotlib that you'll discover over time -- the best way to learn these will be to play around when you're plotting and discover the style elements that you like best/best serve in conveying the science.\n",
    "\n",
    "We can also sample in logarithmic space."
   ]
  },
  {
   "cell_type": "code",
   "execution_count": null,
   "metadata": {},
   "outputs": [],
   "source": [
    "xlog = np.logspace(0, 2, 10) #this function generates a numpy array with 10 values spaced logarithmically between 10**0 and 10**2\n",
    "\n",
    "ylog = m*xlog + b #because we've created a new x variable, we should recalculate y"
   ]
  },
  {
   "cell_type": "markdown",
   "metadata": {},
   "source": [
    "How do you expect this result to look relative to the first plot? Different?\n",
    "\n",
    "Let's check the sampling by plotting the data again, but this time, let's actually plot the individual points.\n",
    "\n",
    "There are several ways to do this, but we'll use matplotlib's built-in scatter function."
   ]
  },
  {
   "cell_type": "code",
   "execution_count": null,
   "metadata": {},
   "outputs": [],
   "source": [
    "fig = plt.figure(figsize = (10, 10))\n",
    "plt.scatter(x, y, color = 'mediumvioletred', s = 100)"
   ]
  },
  {
   "cell_type": "markdown",
   "metadata": {},
   "source": [
    "What would be the best way to compare how these two numpy sampling routines work? I'll give you a hint."
   ]
  },
  {
   "cell_type": "code",
   "execution_count": null,
   "metadata": {},
   "outputs": [],
   "source": [
    "fig = plt.figure(figsize = (10, 10))\n",
    "plt.scatter(    color = 'gray', label = '', s = 100)\n",
    "plt.scatter(    color = 'mediumvioletred', alpha = 0.5, label = '', s = 100)\n",
    "plt.legend(loc = 'best')"
   ]
  },
  {
   "cell_type": "markdown",
   "metadata": {},
   "source": [
    "Now we've introduced some new arguments: 'alpha' sets the % transparency for overplotted points, which will allow you to see if any points overlap; 's' is how you set the marker size for scatter plots, making it analoglous to 'lw'; and 'label' allows you to associate a string with the points plotted in that call to plt.scatter, which will show up in your legend. Because you've created labels, though, doesn't mean that a legend will just show up. You have to make an explicit call  -- _plt.legend_.\n",
    "\n",
    "But wait, there's another way to compare our sampling routines. We can place two plots side-by-side in the same figure.\n",
    "\n",
    "First let's instantiate the figure __and__ two subplots."
   ]
  },
  {
   "cell_type": "code",
   "execution_count": null,
   "metadata": {},
   "outputs": [],
   "source": [
    "fig, (ax1, ax2) = plt.subplots(1, 2, figsize = (20, 10), gridspec_kw = {'wspace':0}, sharey = True)\n",
    "ax1.scatter(      color = 'mediumvioletred')\n",
    "ax1.set_title('')\n",
    "ax2.scatter(      color = 'mediumvioletred')\n",
    "ax2.set_title('')"
   ]
  },
  {
   "cell_type": "markdown",
   "metadata": {},
   "source": [
    "Now we're creating two columns of subplots in the same row -- 'sharey = True' allows you to essentially merge the same plots and 'gridspec_kw' offers additional formatting; in this case 'wspace' refers to the width space (the white space between columns).\n",
    "\n",
    "Note that for a figure __without__ subplots, you would use plt.title(''), the same is true for xlabel, ylabel, xscale, yscale, ...\n",
    "\n",
    "***\n",
    "\n",
    "# Lists\n",
    "\n",
    "This is an approach that can be useful when you don't have an easy way to sample points from a uniform distribution (linearlly or logarithmically). Remember, though, that lists act differently than arrays do.\n",
    "\n",
    "Let's start with a list of x points."
   ]
  },
  {
   "cell_type": "code",
   "execution_count": null,
   "metadata": {},
   "outputs": [],
   "source": [
    "x = [0.001, 0.5, 0.6, 1., 1.001, 2.8, 5.9, 6., 6.88, 8.4, 9.1, 9.999, 10., 50, 65., 68.9, 70., 89.999, 90.0001, 100.]"
   ]
  },
  {
   "cell_type": "markdown",
   "metadata": {},
   "source": [
    "Try to act on it the same way we did the arrays."
   ]
  },
  {
   "cell_type": "code",
   "execution_count": null,
   "metadata": {},
   "outputs": [],
   "source": [
    "y = m*x + b"
   ]
  },
  {
   "cell_type": "markdown",
   "metadata": {},
   "source": [
    "Doesn't work, huh?\n",
    "\n",
    "You have three options -- two that maintain the data type, and a third, which is to simply convert the list to an array."
   ]
  },
  {
   "cell_type": "code",
   "execution_count": null,
   "metadata": {},
   "outputs": [],
   "source": [
    "x = np.array(x)\n",
    "\n",
    "y = m*x + b"
   ]
  },
  {
   "cell_type": "markdown",
   "metadata": {},
   "source": [
    "Now plot your line and its constituent points below."
   ]
  },
  {
   "cell_type": "code",
   "execution_count": null,
   "metadata": {},
   "outputs": [],
   "source": []
  },
  {
   "cell_type": "markdown",
   "metadata": {},
   "source": [
    "We are working with lists, though, so let's make sure that x remains a list.\n",
    "\n",
    "To convert between an array and a list, just surround it with brackets or use _list()_:"
   ]
  },
  {
   "cell_type": "code",
   "execution_count": null,
   "metadata": {},
   "outputs": [],
   "source": [
    "x = list(x)"
   ]
  },
  {
   "cell_type": "markdown",
   "metadata": {},
   "source": [
    "Now we have two options, which (you should come to realize) are really one and the same.\n",
    "\n",
    "### For loop\n",
    "\n",
    "With a 'for loop', we create an empty list for y and then append newly calculated values to it."
   ]
  },
  {
   "cell_type": "code",
   "execution_count": null,
   "metadata": {},
   "outputs": [],
   "source": [
    "y = []\n",
    "\n",
    "for i in x:\n",
    "    y_calc = m*i + b\n",
    "    y.append(y_calc)"
   ]
  },
  {
   "cell_type": "markdown",
   "metadata": {},
   "source": [
    "Go ahead and plot your output line and points below."
   ]
  },
  {
   "cell_type": "code",
   "execution_count": null,
   "metadata": {},
   "outputs": [],
   "source": []
  },
  {
   "cell_type": "markdown",
   "metadata": {},
   "source": [
    "### List comprehension\n",
    "\n",
    "Let's condense the 'for loop' into 'list comprehension'."
   ]
  },
  {
   "cell_type": "code",
   "execution_count": null,
   "metadata": {},
   "outputs": [],
   "source": [
    "y = [m*i + b for i in x]"
   ]
  },
  {
   "cell_type": "markdown",
   "metadata": {},
   "source": [
    "And go ahead and, once again, plot your result:"
   ]
  },
  {
   "cell_type": "code",
   "execution_count": null,
   "metadata": {},
   "outputs": [],
   "source": []
  },
  {
   "cell_type": "markdown",
   "metadata": {},
   "source": [
    "***\n",
    "\n",
    "# Functions\n",
    "\n",
    "There are very few cases in which you'd use a function to plot a simple line, but there are cases where that functional form can be used to __fit__ a line. We'll start by making sure that our function works and then we'll fit some \"messy\" data with a line using a scipy routine.\n",
    "\n",
    "We'll generate the function here:"
   ]
  },
  {
   "cell_type": "code",
   "execution_count": null,
   "metadata": {},
   "outputs": [],
   "source": [
    "def get_line(x, m = 2, b = 4):\n",
    "    return m*x + b"
   ]
  },
  {
   "cell_type": "markdown",
   "metadata": {},
   "source": [
    "Setting _m = 2_ and _b = 4_ within the function does not preclude giving different arguments to get_line(), but it does set these values as defaults, so we only ever need to feed get_line() x-values and it will plot y = 2\\*x-values + 4.\n",
    "\n",
    "To test that our function works, generate an array of x-values and plot the results."
   ]
  },
  {
   "cell_type": "code",
   "execution_count": null,
   "metadata": {},
   "outputs": [],
   "source": []
  },
  {
   "cell_type": "markdown",
   "metadata": {},
   "source": [
    "### Fitting data\n",
    "\n",
    "Where there's no clear relation, or some scatter in the data, we can use curve fitting routines to understand the constants in a provided function.\n",
    "\n",
    "Let's start by importing the relevant module -- we'll be using scipy.optimize.curve_fit."
   ]
  },
  {
   "cell_type": "code",
   "execution_count": null,
   "metadata": {},
   "outputs": [],
   "source": [
    "from scipy.optimize import curve_fit"
   ]
  },
  {
   "cell_type": "markdown",
   "metadata": {},
   "source": [
    "Now we need to generate that \"messy\" data."
   ]
  },
  {
   "cell_type": "code",
   "execution_count": null,
   "metadata": {},
   "outputs": [],
   "source": [
    "x = np.linspace(0, 100, 20)\n",
    "\n",
    "y = get_line(x) + np.random.normal(size = x.shape)"
   ]
  },
  {
   "cell_type": "markdown",
   "metadata": {},
   "source": [
    "This cell generates y data using our function for the line and then perturbs those points by some value drawn from a Gaussian (normal) distribution. The argument 'size = x.shape' ensures that the generated array matches the dimensions of x and y so that there isn't a problem with mismatched indices.\n",
    "\n",
    "This is a good opportunity to get accustomed to reading through the documentation. Here's the [link](https://docs.scipy.org/doc/scipy/reference/generated/scipy.optimize.curve_fit.html).\n",
    "\n",
    "Let's fit our data:"
   ]
  },
  {
   "cell_type": "code",
   "execution_count": null,
   "metadata": {},
   "outputs": [],
   "source": [
    "popt, pcov = curve_fit(get_line, x, y)"
   ]
  },
  {
   "cell_type": "markdown",
   "metadata": {},
   "source": [
    "We can further break up popt into the two variables for which we're actually fitting -- _m_ and _b_."
   ]
  },
  {
   "cell_type": "code",
   "execution_count": null,
   "metadata": {},
   "outputs": [],
   "source": [
    "m, b = popt\n",
    "\n",
    "print('Our data were best fit by a line with a slope of %.2f and an intercept of %.2f.'%(m, b))"
   ]
  },
  {
   "cell_type": "markdown",
   "metadata": {},
   "source": [
    "If we want to quickly plot our result, we can either feed get_line x, m, and b, or use the entire popt tuple: get_line(x, m, b) = get_line(x, \\*popt).\n",
    "\n",
    "Plot both your data points and your output line below."
   ]
  },
  {
   "cell_type": "markdown",
   "metadata": {},
   "source": []
  },
  {
   "cell_type": "markdown",
   "metadata": {},
   "source": [
    "***\n",
    "\n",
    "# Exercise\n",
    "\n",
    "Going back to the quick means of generating data with numpy, generate both linearly sampled and logarithmically sampled data across the same range. Perturb these data in the y-direction, and fit a line to both sets of data. Plot both your perturbed generated data and the lines derived from fitting those data in individual subplots, one linear, one log. Compare your results."
   ]
  },
  {
   "cell_type": "code",
   "execution_count": null,
   "metadata": {},
   "outputs": [],
   "source": []
  }
 ],
 "metadata": {
  "kernelspec": {
   "display_name": "Python 3",
   "language": "python",
   "name": "python3"
  },
  "language_info": {
   "codemirror_mode": {
    "name": "ipython",
    "version": 3
   },
   "file_extension": ".py",
   "mimetype": "text/x-python",
   "name": "python",
   "nbconvert_exporter": "python",
   "pygments_lexer": "ipython3",
   "version": "3.8.5"
  }
 },
 "nbformat": 4,
 "nbformat_minor": 4
}
