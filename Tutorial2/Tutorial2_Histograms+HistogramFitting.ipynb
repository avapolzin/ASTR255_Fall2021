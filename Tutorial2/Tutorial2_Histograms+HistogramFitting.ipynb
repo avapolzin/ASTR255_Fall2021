{
 "cells": [
  {
   "cell_type": "code",
   "execution_count": null,
   "id": "887a6862",
   "metadata": {},
   "outputs": [],
   "source": [
    "%matplotlib inline\n",
    "\n",
    "import matplotlib.pyplot as plt\n",
    "import numpy as np\n",
    "from scipy.optimize import curve_fit"
   ]
  },
  {
   "cell_type": "markdown",
   "id": "9dc7e6e3",
   "metadata": {},
   "source": [
    "In the last tutorial, you got acquainted with data types, plotting, and, briefly, fitting. In this tutorial, we'll build on the basics, looking at additional means of visualizing data and describing data behavior.\n",
    "\n",
    "# Histograms\n",
    "\n",
    "Often when dealing with complex data, it can be useful to look at the actual distribution of values, which can be instructive. Let's start by generating some basic data. Let's roll two dice. Construct a distribution (however you like -- function, using other modules, ...) that simulates this behavior flexibly for a variable number of rolls."
   ]
  },
  {
   "cell_type": "code",
   "execution_count": null,
   "id": "011609cd",
   "metadata": {},
   "outputs": [],
   "source": []
  },
  {
   "cell_type": "markdown",
   "id": "aaf2ab21",
   "metadata": {},
   "source": [
    "Now plot the distribution of outputs for 10 rolls, 100 rolls, 1000 rolls, and 1e4 rolls. Within matplotlib.pyplot the _plt.hist_ function generates a histogram. Generally, the data will be automatically binned. To change this, you can feed the argument _bins_ a single integer, allowing _plt.hist_ to choose that number of equally spaced bins based on your data, or you can give _bins_ a list of numbers, which will serve as the bin edges.\n",
    "\n",
    "You can change the style of the histogram with _histtype_ and the normalization with _weights_ or _density_ (the latter normalizes the histogram so the area under the histogram = 1)."
   ]
  },
  {
   "cell_type": "code",
   "execution_count": null,
   "id": "690a7a49",
   "metadata": {},
   "outputs": [],
   "source": []
  },
  {
   "cell_type": "markdown",
   "id": "844c4933",
   "metadata": {},
   "source": [
    "You should see that the distribution gets more and more consistent as you increase the number of rolls. Good to check that basic statistics principles hold up!\n",
    "\n",
    "***\n",
    "\n",
    "# Fitting histograms\n",
    "\n",
    "Now let's say you were interested in parameterizing the distribution in your histogram. Just like we fit the functional form of a line in the last tutorial, we can fit the functional form of standard distributions to our histogram.\n",
    "\n",
    "Because we're astronomers, let's choose approximate the distribution of our dice roll results as Gaussian. Go ahead and create a function to fit a Gaussian below. We'll do this in the **many** rolls case -- 1e4 iterations."
   ]
  },
  {
   "cell_type": "code",
   "execution_count": null,
   "id": "d4576f41",
   "metadata": {},
   "outputs": [],
   "source": []
  },
  {
   "cell_type": "markdown",
   "id": "5b55238b",
   "metadata": {},
   "source": [
    "Now we need to actually get out data to fit. Thankfully, this is made very easy by _plt.hist_.\n",
    "\n",
    "In order to plot the histogram in the first place, matplotlib has to store bin and frequency data somewhere, so all we have to do is access this information."
   ]
  },
  {
   "cell_type": "code",
   "execution_count": null,
   "id": "a7ea0062",
   "metadata": {},
   "outputs": [],
   "source": [
    "fig = plt.figure(figsize =(10, 10))\n",
    "(n, bins, _) = plt.hist(        , color = 'mediumvioletred', histtype = 'bar', \n",
    "                        density = True, bins = 11, zorder = 0)\n",
    "\n",
    "\n",
    "mid_bin = (bins[:-1] + bins[1:])/2\n",
    "\n",
    "plt.scatter(mid_bin, n, color = 'k', s = 100, zorder = 1)\n",
    "plt.xlabel('roll sum', fontsize = 15)"
   ]
  },
  {
   "cell_type": "markdown",
   "id": "c8f9de18",
   "metadata": {},
   "source": [
    "After we read out the bin edges (\"bins\") and the frequency (\"n\"), we need to play with the numbers a bit to make them conducive to fitting. Primarily, we need to select which x-values we'll actually use. Because the bin edges are read out, I generally like to take the middle of the bin as the point (though you could use the left or right bin edge just as well).\n",
    "\n",
    "To define the middle of the bin, I use the line that starts with _mid_bin_. The output points are overlaid in black on top of the histogram. (The useful Jupyter notebook command _zorder_ will allow you to define individual layers in your plots.)\n",
    "\n",
    "We can now fit the distribution just like we would a line or anything else with _scipy.opimize.curve_fit_."
   ]
  },
  {
   "cell_type": "code",
   "execution_count": null,
   "id": "bd457d63",
   "metadata": {},
   "outputs": [],
   "source": []
  },
  {
   "cell_type": "markdown",
   "id": "5a36c1ef",
   "metadata": {},
   "source": [
    "***\n",
    "\n",
    "# Exercise\n",
    "\n",
    "Use your newfound skills to build and fit a double Gaussian distribution. There are many options for how to do this, some of which are easier than others. Do try to avoid pre-made modules/tools except for the random number generation, though!\n",
    "\n",
    "You may need to play more with the number of bins you feed the fitting and even the initial guesses for optimal parameters (_p0_ within the call to _curve_fit_.) "
   ]
  },
  {
   "cell_type": "code",
   "execution_count": null,
   "id": "ceceedcc",
   "metadata": {},
   "outputs": [],
   "source": []
  },
  {
   "cell_type": "code",
   "execution_count": null,
   "id": "b18ea42d",
   "metadata": {},
   "outputs": [],
   "source": []
  },
  {
   "cell_type": "code",
   "execution_count": null,
   "id": "821c69dd",
   "metadata": {},
   "outputs": [],
   "source": []
  }
 ],
 "metadata": {
  "kernelspec": {
   "display_name": "Python 3",
   "language": "python",
   "name": "python3"
  },
  "language_info": {
   "codemirror_mode": {
    "name": "ipython",
    "version": 3
   },
   "file_extension": ".py",
   "mimetype": "text/x-python",
   "name": "python",
   "nbconvert_exporter": "python",
   "pygments_lexer": "ipython3",
   "version": "3.6.13"
  }
 },
 "nbformat": 4,
 "nbformat_minor": 5
}
